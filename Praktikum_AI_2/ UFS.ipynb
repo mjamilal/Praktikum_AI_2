{
  "nbformat": 4,
  "nbformat_minor": 0,
  "metadata": {
    "colab": {
      "provenance": [],
      "authorship_tag": "ABX9TyNRUdAgHPq2h6j7FqcP5YhZ",
      "include_colab_link": true
    },
    "kernelspec": {
      "name": "python3",
      "display_name": "Python 3"
    },
    "language_info": {
      "name": "python"
    }
  },
  "cells": [
    {
      "cell_type": "markdown",
      "metadata": {
        "id": "view-in-github",
        "colab_type": "text"
      },
      "source": [
        "<a href=\"https://colab.research.google.com/github/mjamilal/Praktikum_AI_2/blob/main/Praktikum_AI_2/%20UFS.ipynb\" target=\"_parent\"><img src=\"https://colab.research.google.com/assets/colab-badge.svg\" alt=\"Open In Colab\"/></a>"
      ]
    },
    {
      "cell_type": "code",
      "execution_count": 4,
      "metadata": {
        "colab": {
          "base_uri": "https://localhost:8080/"
        },
        "id": "quFjb8C1DiBJ",
        "outputId": "4c812cf8-1ff7-42d7-90c4-e7c87c95b291"
      },
      "outputs": [
        {
          "output_type": "stream",
          "name": "stdout",
          "text": [
            "Minimum cost from 0 to 6 is = 3\n"
          ]
        }
      ],
      "source": [
        "# Python3 implementation of Uniform Cost Search\n",
        "\n",
        "# Returns the minimum cost in a vector if there are multiple goal states\n",
        "def uniform_cost_search(goal, start):\n",
        "    global graph, cost\n",
        "    answer = []\n",
        "\n",
        "    # Create a priority queue\n",
        "    queue = []\n",
        "\n",
        "    # Set the answer vector to max value\n",
        "    for _ in range(len(goal)):\n",
        "        answer.append(10**8)\n",
        "\n",
        "    # Insert the starting index\n",
        "    queue.append([0, start])\n",
        "\n",
        "    # Map to store visited nodes\n",
        "    visited = {}\n",
        "\n",
        "    # Count variable\n",
        "    count = 0\n",
        "\n",
        "    # While the queue is not empty\n",
        "    while queue:\n",
        "        # Get the top element (smallest cost)\n",
        "        queue = sorted(queue, key=lambda x: x[0])\n",
        "        p = queue.pop(0)\n",
        "\n",
        "        # If this node is a goal\n",
        "        if p[1] in goal:\n",
        "            index = goal.index(p[1])\n",
        "            if answer[index] == 10**8:\n",
        "                count += 1\n",
        "            if answer[index] > p[0]:\n",
        "                answer[index] = p[0]\n",
        "            if count == len(goal):\n",
        "                return answer\n",
        "\n",
        "        # If the node has not been visited yet\n",
        "        if p[1] not in visited:\n",
        "            for i in range(len(graph[p[1]])):\n",
        "                node = graph[p[1]][i]\n",
        "                total_cost = p[0] + cost[(p[1], node)]\n",
        "                queue.append([total_cost, node])\n",
        "\n",
        "            visited[p[1]] = 1\n",
        "\n",
        "    return answer\n",
        "\n",
        "\n",
        "# Main function\n",
        "if __name__ == '__main__':\n",
        "    # Create the graph\n",
        "    graph, cost = [[] for _ in range(8)], {}\n",
        "\n",
        "    # Add edges\n",
        "    graph[0].append(1)\n",
        "    graph[0].append(3)\n",
        "    graph[3].append(1)\n",
        "    graph[3].append(6)\n",
        "    graph[3].append(4)\n",
        "    graph[1].append(6)\n",
        "    graph[4].append(2)\n",
        "    graph[4].append(5)\n",
        "    graph[2].append(1)\n",
        "    graph[5].append(2)\n",
        "    graph[5].append(6)\n",
        "    graph[6].append(4)\n",
        "\n",
        "    # Add the cost\n",
        "    cost[(0, 1)] = 2\n",
        "    cost[(0, 3)] = 5\n",
        "    cost[(1, 6)] = 1\n",
        "    cost[(3, 1)] = 5\n",
        "    cost[(3, 6)] = 6\n",
        "    cost[(3, 4)] = 2\n",
        "    cost[(2, 1)] = 4\n",
        "    cost[(4, 2)] = 4\n",
        "    cost[(4, 5)] = 3\n",
        "    cost[(5, 2)] = 6\n",
        "    cost[(5, 6)] = 3\n",
        "    cost[(6, 4)] = 7\n",
        "\n",
        "    # Goal state(s)\n",
        "    goal = [6]\n",
        "\n",
        "    # Get the answer\n",
        "    answer = uniform_cost_search(goal, 0)\n",
        "\n",
        "    # Print the answer\n",
        "    print(\"Minimum cost from 0 to 6 is =\", answer[0])\n"
      ]
    }
  ]
}